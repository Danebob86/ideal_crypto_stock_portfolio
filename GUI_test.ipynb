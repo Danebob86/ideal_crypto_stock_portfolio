{
 "cells": [
  {
   "cell_type": "code",
   "execution_count": 54,
   "metadata": {},
   "outputs": [],
   "source": [
    "import requests\n",
    "from dotenv import load_dotenv\n",
    "import yfinance as yf\n",
    "import alpaca_trade_api as tradeapi\n",
    "import pandas as pd\n",
    "import numpy as np\n",
    "from MCForecastTools import MCSimulation"
   ]
  },
  {
   "cell_type": "code",
   "execution_count": 53,
   "metadata": {},
   "outputs": [],
   "source": [
    "import panel as pn\n",
    "pn.extension('plotly')\n",
    "import plotly.express as px\n",
    "import matplotlib.pyplot as plt\n",
    "from pathlib import Path\n",
    "import hvplot.pandas\n",
    "import seaborn as sns\n",
    "import tkinter as tk\n",
    "import panel as pn\n",
    "pn.extension()"
   ]
  },
  {
   "cell_type": "code",
   "execution_count": 46,
   "metadata": {},
   "outputs": [
    {
     "name": "stdout",
     "output_type": "stream",
     "text": [
      "Pls enter amount to invest in $ \n"
     ]
    },
    {
     "data": {
      "text/plain": [
       "'Thank you!  $ being applied to your account'"
      ]
     },
     "execution_count": 46,
     "metadata": {},
     "output_type": "execute_result"
    }
   ],
   "source": [
    "## Collecting data for investment\n",
    "\n",
    "inv_amt= input (f'Pls enter amount to invest in $ ')\n",
    "f'Thank you! {inv_amt} $ being applied to your account'\n"
   ]
  },
  {
   "cell_type": "code",
   "execution_count": 51,
   "metadata": {},
   "outputs": [],
   "source": [
    "##Establishing Risk level using a GUI\n",
    "\n",
    "# Create object\n",
    "root = Tk()\n",
    "  \n",
    "# Adjust size\n",
    "root.geometry( \"200x200\" )\n",
    "  \n",
    "# Change the label text\n",
    "def show():\n",
    "    label.config( text = clicked.get() )\n",
    "  \n",
    "# Dropdown menu options\n",
    "options = [\n",
    "    \"Max--I'm all in\",\n",
    "    \"Moderate--70% Risk 30% Safe\",\n",
    "    \"Min--70% Safe 30% Risk\",\n",
    "]\n",
    "  \n",
    "# datatype of menu text\n",
    "clicked = StringVar()\n",
    "  \n",
    "# initial menu text\n",
    "clicked.set( \"Select Your Risk\" )\n",
    "  \n",
    "# Create Dropdown menu\n",
    "drop = OptionMenu( root , clicked , *options )\n",
    "drop.pack()\n",
    "  \n",
    "# Create button, it will change label text\n",
    "button = Button( root , text = \"Click here to Store Profile\" , command = show ).pack()\n",
    "  \n",
    "# Create Label\n",
    "label = Label( root , text = \" \" )\n",
    "\n",
    "label.pack()\n",
    "\n",
    "entry = tk.Entry(root)\n"
   ]
  },
  {
   "cell_type": "code",
   "execution_count": 52,
   "metadata": {},
   "outputs": [],
   "source": [
    "# Execute tkinter\n",
    "root.mainloop()\n"
   ]
  },
  {
   "cell_type": "code",
   "execution_count": 39,
   "metadata": {},
   "outputs": [
    {
     "data": {
      "text/plain": [
       "'Your risk level is .!label'"
      ]
     },
     "execution_count": 39,
     "metadata": {},
     "output_type": "execute_result"
    }
   ],
   "source": [
    "f'Your risk level is {r_val}'"
   ]
  },
  {
   "cell_type": "code",
   "execution_count": 167,
   "metadata": {},
   "outputs": [],
   "source": [
    "## Establishing risk level using dropdown menu\n",
    "\n",
    "def risk_select():\n",
    "    select = pn.widgets.Select(name='Pls Select your risk level ', options=[\"Max--100% I'm all in Crypto\",\"Moderate--70% Risk 30% Safe\",\"Min--70% Safe 30% Risk\"])\n",
    "    return select\n",
    "\n",
    "## Value of choice is stored and accessed by select.value stored as a String"
   ]
  },
  {
   "cell_type": "code",
   "execution_count": 168,
   "metadata": {},
   "outputs": [
    {
     "data": {},
     "metadata": {},
     "output_type": "display_data"
    },
    {
     "data": {
      "application/vnd.holoviews_exec.v0+json": "",
      "text/html": [
       "<div id='1021'>\n",
       "\n",
       "\n",
       "\n",
       "\n",
       "\n",
       "  <div class=\"bk-root\" id=\"eb02bcd9-c724-4d04-9a8d-9d5840de59c6\" data-root-id=\"1021\"></div>\n",
       "</div>\n",
       "<script type=\"application/javascript\">(function(root) {\n",
       "  function embed_document(root) {\n",
       "    var docs_json = {\"90914613-b0cb-4e43-b086-294d90e3ac3b\":{\"defs\":[],\"roots\":{\"references\":[{\"attributes\":{\"margin\":[5,10,5,10],\"options\":[\"Max--100% I'm all in Crypto\",\"Moderate--70% Risk 30% Safe\",\"Min--70% Safe 30% Risk\"],\"title\":\"Pls Select your risk level \",\"value\":\"Max--100% I'm all in Crypto\"},\"id\":\"1021\",\"type\":\"Select\"},{\"attributes\":{\"client_comm_id\":\"b2b7ce71ad384258a5e656e439f8a34f\",\"comm_id\":\"7a3dc3049f9d4431bb9cc416edf54cb2\",\"plot_id\":\"1021\"},\"id\":\"1022\",\"type\":\"panel.models.comm_manager.CommManager\"}],\"root_ids\":[\"1021\",\"1022\"]},\"title\":\"Bokeh Application\",\"version\":\"2.3.2\"}};\n",
       "    var render_items = [{\"docid\":\"90914613-b0cb-4e43-b086-294d90e3ac3b\",\"root_ids\":[\"1021\"],\"roots\":{\"1021\":\"eb02bcd9-c724-4d04-9a8d-9d5840de59c6\"}}];\n",
       "    root.Bokeh.embed.embed_items_notebook(docs_json, render_items);\n",
       "  }\n",
       "  if (root.Bokeh !== undefined && root.Bokeh.Panel !== undefined && root['Plotly'] !== undefined ) {\n",
       "    embed_document(root);\n",
       "  } else {\n",
       "    var attempts = 0;\n",
       "    var timer = setInterval(function(root) {\n",
       "      if (root.Bokeh !== undefined && root.Bokeh.Panel !== undefined && root['Plotly'] !== undefined) {\n",
       "        clearInterval(timer);\n",
       "        embed_document(root);\n",
       "      } else if (document.readyState == \"complete\") {\n",
       "        attempts++;\n",
       "        if (attempts > 100) {\n",
       "          clearInterval(timer);\n",
       "          console.log(\"Bokeh: ERROR: Unable to run BokehJS code because BokehJS library is missing\");\n",
       "        }\n",
       "      }\n",
       "    }, 10, root)\n",
       "  }\n",
       "})(window);</script>"
      ],
      "text/plain": [
       "Select(name='Pls Select your r..., options=[\"Max--100% I'm all in Cry...], value=\"Max--100% I'm a...)"
      ]
     },
     "execution_count": 168,
     "metadata": {
      "application/vnd.holoviews_exec.v0+json": {
       "id": "1021"
      }
     },
     "output_type": "execute_result"
    }
   ],
   "source": [
    "risk_select()"
   ]
  },
  {
   "cell_type": "code",
   "execution_count": 169,
   "metadata": {},
   "outputs": [
    {
     "data": {
      "text/plain": [
       "\"Max--100% I'm all in Crypto\""
      ]
     },
     "execution_count": 169,
     "metadata": {},
     "output_type": "execute_result"
    }
   ],
   "source": [
    "select.value"
   ]
  },
  {
   "cell_type": "code",
   "execution_count": 145,
   "metadata": {},
   "outputs": [
    {
     "name": "stdout",
     "output_type": "stream",
     "text": [
      "Max--100% I'm all in Crypto\n"
     ]
    }
   ],
   "source": [
    "## Correlation/Volatility calculator\n",
    "print(select.value)\n",
    "answer= select.value\n",
    "corr= 0\n",
    "vol= 0\n",
    "\n",
    "def risk_calc(answer) :\n",
    "    if answer == \"Max--100% I'm all in Crypto\" :\n",
    "        corr = 1\n",
    "        vol = 1\n",
    "        print (\"here1\")\n",
    "    elif answer == \"Min--70% Safe 30% Risk\" :\n",
    "        corr = .3\n",
    "        vol = .3\n",
    "        print (\"here2\")\n",
    "    else :\n",
    "        corr= .5\n",
    "        vol = .5\n",
    "        print (\"here\")\n",
    "    return (corr,vol)"
   ]
  },
  {
   "cell_type": "code",
   "execution_count": 146,
   "metadata": {},
   "outputs": [
    {
     "name": "stdout",
     "output_type": "stream",
     "text": [
      "here1\n"
     ]
    },
    {
     "data": {
      "text/plain": [
       "(1, 1)"
      ]
     },
     "execution_count": 146,
     "metadata": {},
     "output_type": "execute_result"
    }
   ],
   "source": [
    "risk_calc(answer)  \n"
   ]
  },
  {
   "cell_type": "code",
   "execution_count": 147,
   "metadata": {},
   "outputs": [
    {
     "name": "stdout",
     "output_type": "stream",
     "text": [
      "0\n"
     ]
    }
   ],
   "source": [
    "print (corr)"
   ]
  },
  {
   "cell_type": "code",
   "execution_count": 171,
   "metadata": {},
   "outputs": [
    {
     "data": {},
     "metadata": {},
     "output_type": "display_data"
    },
    {
     "data": {
      "application/vnd.holoviews_exec.v0+json": "",
      "text/html": [
       "<div id='1023'>\n",
       "\n",
       "\n",
       "\n",
       "\n",
       "\n",
       "  <div class=\"bk-root\" id=\"e6e1788a-04ff-4a4c-bdd1-6bd2f871f22b\" data-root-id=\"1023\"></div>\n",
       "</div>\n",
       "<script type=\"application/javascript\">(function(root) {\n",
       "  function embed_document(root) {\n",
       "    var docs_json = {\"a2cb6b51-abf5-4456-a89e-6afb24336250\":{\"defs\":[],\"roots\":{\"references\":[{\"attributes\":{\"children\":[{\"id\":\"1024\"}],\"margin\":[0,0,0,0],\"min_width\":200,\"name\":\"Column01594\",\"width\":200},\"id\":\"1023\",\"type\":\"Column\"},{\"attributes\":{\"end\":1.0,\"margin\":[5,10,5,10],\"min_width\":200,\"start\":0.0,\"step\":0.1,\"title\":\"Risk Slider\",\"value\":0.0,\"width\":200},\"id\":\"1024\",\"type\":\"Slider\"},{\"attributes\":{\"client_comm_id\":\"5ab3060583024300813a1a2be741b61d\",\"comm_id\":\"537a57920726452ba5888ac002d50e4f\",\"plot_id\":\"1023\"},\"id\":\"1025\",\"type\":\"panel.models.comm_manager.CommManager\"}],\"root_ids\":[\"1023\",\"1025\"]},\"title\":\"Bokeh Application\",\"version\":\"2.3.2\"}};\n",
       "    var render_items = [{\"docid\":\"a2cb6b51-abf5-4456-a89e-6afb24336250\",\"root_ids\":[\"1023\"],\"roots\":{\"1023\":\"e6e1788a-04ff-4a4c-bdd1-6bd2f871f22b\"}}];\n",
       "    root.Bokeh.embed.embed_items_notebook(docs_json, render_items);\n",
       "  }\n",
       "  if (root.Bokeh !== undefined && root.Bokeh.Panel !== undefined && root['Plotly'] !== undefined ) {\n",
       "    embed_document(root);\n",
       "  } else {\n",
       "    var attempts = 0;\n",
       "    var timer = setInterval(function(root) {\n",
       "      if (root.Bokeh !== undefined && root.Bokeh.Panel !== undefined && root['Plotly'] !== undefined) {\n",
       "        clearInterval(timer);\n",
       "        embed_document(root);\n",
       "      } else if (document.readyState == \"complete\") {\n",
       "        attempts++;\n",
       "        if (attempts > 100) {\n",
       "          clearInterval(timer);\n",
       "          console.log(\"Bokeh: ERROR: Unable to run BokehJS code because BokehJS library is missing\");\n",
       "        }\n",
       "      }\n",
       "    }, 10, root)\n",
       "  }\n",
       "})(window);</script>"
      ],
      "text/plain": [
       "Column(width=200)\n",
       "    [0] FloatSlider(name='Risk Slider', width=200)"
      ]
     },
     "execution_count": 171,
     "metadata": {
      "application/vnd.holoviews_exec.v0+json": {
       "id": "1023"
      }
     },
     "output_type": "execute_result"
    }
   ],
   "source": [
    "###Sider for Risk Level \n",
    "\n",
    "slider = pn.widgets.FloatSlider(name='Risk Slider', width=200)"
   ]
  },
  {
   "cell_type": "code",
   "execution_count": 191,
   "metadata": {},
   "outputs": [],
   "source": [
    "def slider_risk (slider_answer):\n",
    "    if (slider_answer <= .5 ) :\n",
    "        corr = 1\n",
    "        vol = 1\n",
    "        print (\"Min Risk\")\n",
    "    elif (slider_answer >.5 and slider_answer <= .7) :\n",
    "        corr = .3\n",
    "        vol = .3\n",
    "        print (\"Moderate Risk\")\n",
    "    else :\n",
    "        corr= .5\n",
    "        vol = .5\n",
    "        print (\"Max Risk\")\n",
    "    return (corr,vol)"
   ]
  },
  {
   "cell_type": "code",
   "execution_count": 204,
   "metadata": {},
   "outputs": [
    {
     "data": {},
     "metadata": {},
     "output_type": "display_data"
    },
    {
     "data": {
      "application/vnd.holoviews_exec.v0+json": "",
      "text/html": [
       "<div id='1107'>\n",
       "\n",
       "\n",
       "\n",
       "\n",
       "\n",
       "  <div class=\"bk-root\" id=\"c73e31ce-2808-4c8d-b69e-c04e90180d09\" data-root-id=\"1107\"></div>\n",
       "</div>\n",
       "<script type=\"application/javascript\">(function(root) {\n",
       "  function embed_document(root) {\n",
       "    var docs_json = {\"0e3e2bd9-8265-4d12-9679-27b38f90b184\":{\"defs\":[],\"roots\":{\"references\":[{\"attributes\":{\"children\":[{\"id\":\"1108\"}],\"margin\":[0,0,0,0],\"min_width\":200,\"name\":\"Column01626\",\"width\":200},\"id\":\"1107\",\"type\":\"Column\"},{\"attributes\":{\"client_comm_id\":\"044aa8caef91427e9a33c51e97743478\",\"comm_id\":\"63cf3362b05f4016a39a845149e0609e\",\"plot_id\":\"1107\"},\"id\":\"1109\",\"type\":\"panel.models.comm_manager.CommManager\"},{\"attributes\":{\"end\":1.0,\"margin\":[5,10,5,10],\"min_width\":200,\"start\":0.0,\"step\":0.1,\"title\":\"Risk Slider\",\"value\":0.7,\"width\":200},\"id\":\"1108\",\"type\":\"Slider\"}],\"root_ids\":[\"1107\",\"1109\"]},\"title\":\"Bokeh Application\",\"version\":\"2.3.2\"}};\n",
       "    var render_items = [{\"docid\":\"0e3e2bd9-8265-4d12-9679-27b38f90b184\",\"root_ids\":[\"1107\"],\"roots\":{\"1107\":\"c73e31ce-2808-4c8d-b69e-c04e90180d09\"}}];\n",
       "    root.Bokeh.embed.embed_items_notebook(docs_json, render_items);\n",
       "  }\n",
       "  if (root.Bokeh !== undefined && root.Bokeh.Panel !== undefined && root['Plotly'] !== undefined ) {\n",
       "    embed_document(root);\n",
       "  } else {\n",
       "    var attempts = 0;\n",
       "    var timer = setInterval(function(root) {\n",
       "      if (root.Bokeh !== undefined && root.Bokeh.Panel !== undefined && root['Plotly'] !== undefined) {\n",
       "        clearInterval(timer);\n",
       "        embed_document(root);\n",
       "      } else if (document.readyState == \"complete\") {\n",
       "        attempts++;\n",
       "        if (attempts > 100) {\n",
       "          clearInterval(timer);\n",
       "          console.log(\"Bokeh: ERROR: Unable to run BokehJS code because BokehJS library is missing\");\n",
       "        }\n",
       "      }\n",
       "    }, 10, root)\n",
       "  }\n",
       "})(window);</script>"
      ],
      "text/plain": [
       "Column(width=200)\n",
       "    [0] FloatSlider(name='Risk Slider', value=0.7, width=200)"
      ]
     },
     "execution_count": 204,
     "metadata": {
      "application/vnd.holoviews_exec.v0+json": {
       "id": "1107"
      }
     },
     "output_type": "execute_result"
    }
   ],
   "source": [
    "pn.Column(slider, width=200)\n"
   ]
  },
  {
   "cell_type": "code",
   "execution_count": 205,
   "metadata": {},
   "outputs": [
    {
     "name": "stdout",
     "output_type": "stream",
     "text": [
      "Max Risk\n"
     ]
    },
    {
     "data": {
      "text/plain": [
       "(0.5, 0.5)"
      ]
     },
     "execution_count": 205,
     "metadata": {},
     "output_type": "execute_result"
    }
   ],
   "source": [
    "slider_answer=slider.value\n",
    "slider_risk(slider_answer)"
   ]
  },
  {
   "cell_type": "code",
   "execution_count": null,
   "metadata": {},
   "outputs": [],
   "source": []
  }
 ],
 "metadata": {
  "kernelspec": {
   "display_name": "Python 3",
   "language": "python",
   "name": "python3"
  },
  "language_info": {
   "codemirror_mode": {
    "name": "ipython",
    "version": 3
   },
   "file_extension": ".py",
   "mimetype": "text/x-python",
   "name": "python",
   "nbconvert_exporter": "python",
   "pygments_lexer": "ipython3",
   "version": "3.7.9"
  }
 },
 "nbformat": 4,
 "nbformat_minor": 4
}
