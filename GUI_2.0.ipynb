{
 "cells": [
  {
   "cell_type": "code",
   "execution_count": 35,
   "metadata": {},
   "outputs": [
    {
     "ename": "SyntaxError",
     "evalue": "from __future__ imports must occur at the beginning of the file (<ipython-input-35-58e7829e8eee>, line 5)",
     "output_type": "error",
     "traceback": [
      "\u001b[1;36m  File \u001b[1;32m\"<ipython-input-35-58e7829e8eee>\"\u001b[1;36m, line \u001b[1;32m5\u001b[0m\n\u001b[1;33m    import yfinance as yf\u001b[0m\n\u001b[1;37m           ^\u001b[0m\n\u001b[1;31mSyntaxError\u001b[0m\u001b[1;31m:\u001b[0m from __future__ imports must occur at the beginning of the file\n"
     ]
    }
   ],
   "source": [
    "\n",
    "import requests\n",
    "from dotenv import load_dotenv\n",
    "import yfinance as yf\n",
    "import alpaca_trade_api as tradeapi\n",
    "import pandas as pd\n",
    "import numpy as np\n"
   ]
  },
  {
   "cell_type": "code",
   "execution_count": 36,
   "metadata": {},
   "outputs": [],
   "source": [
    "import panel as pn\n",
    "pn.extension('plotly')\n",
    "import plotly.express as px\n",
    "import matplotlib.pyplot as plt\n",
    "from pathlib import Path\n",
    "import hvplot.pandas\n",
    "import seaborn as sns\n",
    "import tkinter \n",
    "import panel as pn\n",
    "pn.extension()"
   ]
  },
  {
   "cell_type": "code",
   "execution_count": 37,
   "metadata": {},
   "outputs": [],
   "source": [
    "from __future__ import print_function\n",
    "from ipywidgets import interact, interactive, fixed, interact_manual\n",
    "import ipywidgets as widgets"
   ]
  },
  {
   "cell_type": "code",
   "execution_count": 111,
   "metadata": {},
   "outputs": [
    {
     "name": "stdout",
     "output_type": "stream",
     "text": [
      "Pls enter amount to invest in $ 15000\n"
     ]
    },
    {
     "data": {
      "text/plain": [
       "'Thank you! 15000 $ being applied to your account'"
      ]
     },
     "execution_count": 111,
     "metadata": {},
     "output_type": "execute_result"
    }
   ],
   "source": [
    "## Collecting data for investment\n",
    "\n",
    "inv_amt= input (f'Pls enter amount to invest in $ ')\n",
    "f'Thank you! {inv_amt} $ being applied to your account'\n"
   ]
  },
  {
   "cell_type": "code",
   "execution_count": 112,
   "metadata": {},
   "outputs": [
    {
     "name": "stdout",
     "output_type": "stream",
     "text": [
      "Pls enter amount of time for your investment in years 20\n"
     ]
    },
    {
     "data": {
      "text/plain": [
       "'Our system will apply a time of 20 years for portfolio calculations'"
      ]
     },
     "execution_count": 112,
     "metadata": {},
     "output_type": "execute_result"
    }
   ],
   "source": [
    "inv_time= input (f'Pls enter amount of time for your investment in years ')\n",
    "f'Our system will apply a time of {inv_time} years for portfolio calculations'"
   ]
  },
  {
   "cell_type": "code",
   "execution_count": 13,
   "metadata": {},
   "outputs": [],
   "source": [
    "# ## Using a GUI (Tkinter) to capture Risk\n",
    "\n",
    "# corr = 0\n",
    "\n",
    "# def Min():\n",
    "#     corr = 1\n",
    "#     print(corr)\n",
    "\n",
    "# def Mod():\n",
    "#     corr = .7\n",
    "#     print(corr)\n",
    "\n",
    "# def Max():\n",
    "#     corr = .3\n",
    "#     print(corr)\n",
    "\n",
    "# window = tkinter.Tk()\n",
    "\n",
    "# label = tkinter.Label(window, text=\"Please slecte your risk level?\")\n",
    "# button = tkinter.Button(window, text=\"Min\", command=Min)\n",
    "# button2 = tkinter.Button(window, text=\"Moderate\", command=Mod)\n",
    "# button3 = tkinter.Button(window, text=\"MAximum\", command=Max)\n",
    "\n",
    "# label.pack()\n",
    "# button.pack()\n",
    "# button2.pack()\n",
    "# button3.pack()\n",
    "# window.mainloop()"
   ]
  },
  {
   "cell_type": "code",
   "execution_count": null,
   "metadata": {},
   "outputs": [],
   "source": []
  },
  {
   "cell_type": "code",
   "execution_count": 18,
   "metadata": {},
   "outputs": [],
   "source": [
    "# ## Establishing risk level using dropdown menu\n",
    "\n",
    "# def risk_select():\n",
    "#     select = pn.widgets.Select(name='Pls Select your risk level ', options=[\"Max--100% I'm all in Crypto\",\"Moderate--70% Risk 30% Safe\",\"Min--70% Safe 30% Risk\"])\n",
    "#     return select\n",
    "\n",
    "# ## Value of choice is stored and accessed by select.value stored as a String"
   ]
  },
  {
   "cell_type": "code",
   "execution_count": 19,
   "metadata": {
    "scrolled": true
   },
   "outputs": [
    {
     "data": {},
     "metadata": {},
     "output_type": "display_data"
    },
    {
     "data": {
      "application/vnd.holoviews_exec.v0+json": "",
      "text/html": [
       "<div id='1007'>\n",
       "\n",
       "\n",
       "\n",
       "\n",
       "\n",
       "  <div class=\"bk-root\" id=\"4efd8982-2f08-481b-81f9-cbaece1e7c0b\" data-root-id=\"1007\"></div>\n",
       "</div>\n",
       "<script type=\"application/javascript\">(function(root) {\n",
       "  function embed_document(root) {\n",
       "    var docs_json = {\"08f7d977-a81b-4be5-b626-2c6083ff7be2\":{\"defs\":[],\"roots\":{\"references\":[{\"attributes\":{\"margin\":[5,10,5,10],\"options\":[\"Max--100% I'm all in Crypto\",\"Moderate--70% Risk 30% Safe\",\"Min--70% Safe 30% Risk\"],\"title\":\"Pls Select your risk level \",\"value\":\"Max--100% I'm all in Crypto\"},\"id\":\"1007\",\"type\":\"Select\"},{\"attributes\":{\"client_comm_id\":\"e18c84a22c624354b1c0b7d9822d9dbc\",\"comm_id\":\"7e06c143c81e4739beeb3251e3308f5e\",\"plot_id\":\"1007\"},\"id\":\"1008\",\"type\":\"panel.models.comm_manager.CommManager\"}],\"root_ids\":[\"1007\",\"1008\"]},\"title\":\"Bokeh Application\",\"version\":\"2.3.2\"}};\n",
       "    var render_items = [{\"docid\":\"08f7d977-a81b-4be5-b626-2c6083ff7be2\",\"root_ids\":[\"1007\"],\"roots\":{\"1007\":\"4efd8982-2f08-481b-81f9-cbaece1e7c0b\"}}];\n",
       "    root.Bokeh.embed.embed_items_notebook(docs_json, render_items);\n",
       "  }\n",
       "  if (root.Bokeh !== undefined && root.Bokeh.Panel !== undefined && root['Plotly'] !== undefined ) {\n",
       "    embed_document(root);\n",
       "  } else {\n",
       "    var attempts = 0;\n",
       "    var timer = setInterval(function(root) {\n",
       "      if (root.Bokeh !== undefined && root.Bokeh.Panel !== undefined && root['Plotly'] !== undefined) {\n",
       "        clearInterval(timer);\n",
       "        embed_document(root);\n",
       "      } else if (document.readyState == \"complete\") {\n",
       "        attempts++;\n",
       "        if (attempts > 100) {\n",
       "          clearInterval(timer);\n",
       "          console.log(\"Bokeh: ERROR: Unable to run BokehJS code because BokehJS library is missing\");\n",
       "        }\n",
       "      }\n",
       "    }, 10, root)\n",
       "  }\n",
       "})(window);</script>"
      ],
      "text/plain": [
       "Select(name='Pls Select your r..., options=[\"Max--100% I'm all in Cry...], value=\"Max--100% I'm a...)"
      ]
     },
     "execution_count": 19,
     "metadata": {
      "application/vnd.holoviews_exec.v0+json": {
       "id": "1007"
      }
     },
     "output_type": "execute_result"
    }
   ],
   "source": [
    "risk_select()"
   ]
  },
  {
   "cell_type": "code",
   "execution_count": 113,
   "metadata": {},
   "outputs": [],
   "source": [
    "###Sider for Risk Level \n",
    "\n",
    "risk_slider = pn.widgets.FloatSlider(name='Pls select your risk level (1--Lowest---10 Highest)', start=1, end=10, step=1.0, width=400)"
   ]
  },
  {
   "cell_type": "code",
   "execution_count": 115,
   "metadata": {},
   "outputs": [
    {
     "data": {},
     "metadata": {},
     "output_type": "display_data"
    },
    {
     "data": {
      "application/vnd.holoviews_exec.v0+json": "",
      "text/html": [
       "<div id='1088'>\n",
       "\n",
       "\n",
       "\n",
       "\n",
       "\n",
       "  <div class=\"bk-root\" id=\"f431dabf-62b3-4bcf-af1a-b835de0bc5d7\" data-root-id=\"1088\"></div>\n",
       "</div>\n",
       "<script type=\"application/javascript\">(function(root) {\n",
       "  function embed_document(root) {\n",
       "    var docs_json = {\"32e54a81-031c-466f-bf1d-39d7e9f9583e\":{\"defs\":[],\"roots\":{\"references\":[{\"attributes\":{\"end\":10,\"margin\":[5,10,5,10],\"min_width\":400,\"start\":1,\"title\":\"Pls select your risk level (1--Lowest---10 Highest)\",\"value\":10,\"width\":400},\"id\":\"1089\",\"type\":\"Slider\"},{\"attributes\":{\"children\":[{\"id\":\"1089\"}],\"margin\":[0,0,0,0],\"min_width\":400,\"name\":\"Column01634\",\"width\":400},\"id\":\"1088\",\"type\":\"Column\"},{\"attributes\":{\"client_comm_id\":\"4320e00c639e4f18a2085d135950e618\",\"comm_id\":\"8da2f7627a734f1ab28698f960708f3f\",\"plot_id\":\"1088\"},\"id\":\"1090\",\"type\":\"panel.models.comm_manager.CommManager\"}],\"root_ids\":[\"1088\",\"1090\"]},\"title\":\"Bokeh Application\",\"version\":\"2.3.2\"}};\n",
       "    var render_items = [{\"docid\":\"32e54a81-031c-466f-bf1d-39d7e9f9583e\",\"root_ids\":[\"1088\"],\"roots\":{\"1088\":\"f431dabf-62b3-4bcf-af1a-b835de0bc5d7\"}}];\n",
       "    root.Bokeh.embed.embed_items_notebook(docs_json, render_items);\n",
       "  }\n",
       "  if (root.Bokeh !== undefined && root.Bokeh.Panel !== undefined && root['Plotly'] !== undefined ) {\n",
       "    embed_document(root);\n",
       "  } else {\n",
       "    var attempts = 0;\n",
       "    var timer = setInterval(function(root) {\n",
       "      if (root.Bokeh !== undefined && root.Bokeh.Panel !== undefined && root['Plotly'] !== undefined) {\n",
       "        clearInterval(timer);\n",
       "        embed_document(root);\n",
       "      } else if (document.readyState == \"complete\") {\n",
       "        attempts++;\n",
       "        if (attempts > 100) {\n",
       "          clearInterval(timer);\n",
       "          console.log(\"Bokeh: ERROR: Unable to run BokehJS code because BokehJS library is missing\");\n",
       "        }\n",
       "      }\n",
       "    }, 10, root)\n",
       "  }\n",
       "})(window);</script>"
      ],
      "text/plain": [
       "Column(width=400)\n",
       "    [0] FloatSlider(end=10, name='Pls select your r..., start=1, step=1.0, value=10, width=400)"
      ]
     },
     "execution_count": 115,
     "metadata": {
      "application/vnd.holoviews_exec.v0+json": {
       "id": "1088"
      }
     },
     "output_type": "execute_result"
    }
   ],
   "source": [
    "pn.Column(risk_slider, width=400) ## Use to control variables of slider\n"
   ]
  },
  {
   "cell_type": "code",
   "execution_count": 116,
   "metadata": {},
   "outputs": [
    {
     "name": "stdout",
     "output_type": "stream",
     "text": [
      "Your risk level is 10\n"
     ]
    }
   ],
   "source": [
    "rsk_lvl= risk_slider.value  ## Assigning Risk leve from input\n",
    "print (\"Your risk level is\", rsk_lvl)"
   ]
  },
  {
   "cell_type": "code",
   "execution_count": 117,
   "metadata": {},
   "outputs": [],
   "source": [
    "### Calculator that assings port weighted avg based on risk level needs to be modified for weighted averages 1-10\n",
    "\n",
    "def slider_risk (rsk_lvl):\n",
    "    if (rsk_lvl <= 4 ) :\n",
    "        corr = 1\n",
    "        vol = 1\n",
    "        print (\"Min Risk\")\n",
    "    elif (rsk_lvl >5 and rsk_lvl <= 7) :\n",
    "        corr = .3\n",
    "        vol = .3\n",
    "        print (\"Moderate Risk\")\n",
    "    else :\n",
    "        corr= .5\n",
    "        vol = .5\n",
    "        print (\"Max Risk\")\n",
    "    return (corr,vol)"
   ]
  },
  {
   "cell_type": "code",
   "execution_count": 118,
   "metadata": {},
   "outputs": [
    {
     "name": "stdout",
     "output_type": "stream",
     "text": [
      "Max Risk\n",
      "Optimizing Portfolio with a correlation and volitility of (0.5, 0.5)\n"
     ]
    }
   ],
   "source": [
    "print (\"Optimizing Portfolio with a correlation and volitility of\",slider_risk(rsk_lvl))"
   ]
  },
  {
   "cell_type": "code",
   "execution_count": null,
   "metadata": {},
   "outputs": [],
   "source": []
  }
 ],
 "metadata": {
  "kernelspec": {
   "display_name": "Python 3",
   "language": "python",
   "name": "python3"
  },
  "language_info": {
   "codemirror_mode": {
    "name": "ipython",
    "version": 3
   },
   "file_extension": ".py",
   "mimetype": "text/x-python",
   "name": "python",
   "nbconvert_exporter": "python",
   "pygments_lexer": "ipython3",
   "version": "3.7.9"
  }
 },
 "nbformat": 4,
 "nbformat_minor": 4
}
